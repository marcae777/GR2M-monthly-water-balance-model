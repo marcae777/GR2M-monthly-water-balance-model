{
 "cells": [
  {
   "cell_type": "code",
   "execution_count": 66,
   "metadata": {
    "collapsed": false
   },
   "outputs": [],
   "source": [
    "# -*- coding: utf-8 -*-\n",
    "import pandas as pd\n",
    "import numpy as np\n",
    "import matplotlib.pyplot as plt"
   ]
  },
  {
   "cell_type": "markdown",
   "metadata": {},
   "source": [
    "# GR2M model, (Mouelhi, 2006)\n",
    "\n",
    "Two-parameter monthly water balance model\n",
    "\n",
    "$S_1\\ =\\ \\frac{S\\ +\\ \\chi_{1}\\varphi}{1\\ +\\ \\varphi\\frac{S}{\\chi_{1}}}\\ ,with\\ \\varphi\\ =\\ tanh(\\frac{P}{\\chi_{1}})\\ \\ \\ (1)$\n",
    "\n",
    "$P_1\\ =\\ P\\ +\\ S\\ -\\ S_1\\ \\ \\ (2)$ \n",
    "\n",
    "\n",
    "\n",
    "$S_2\\ =\\ \\frac{S_1(1\\ -\\ \\psi)}{1\\ +\\ \\psi(1\\ -\\ \\frac{S_1}{\\chi_{1}})}\\ ,with\\ \\psi\\ =\\ tanh(\\frac{E}{\\chi_{1}})\\ \\ \\ (3)$\n",
    "$\n",
    "\n",
    "$S\\ = \\frac{S_2}{[1\\ +\\ (\\frac{S_2}{\\chi_1})^{3}]^{1/3}},\\ P_2\\ =\\ S_2\\ -\\ S\\ \\ \\ (4)$\n",
    "\n",
    "$P_3\\ =\\ P_1\\ +\\ P_2\\ \\ \\ (5)$\n",
    "\n",
    "$R_1\\ =\\ R\\ +\\ P_3\\ \\ \\ (6)$\n",
    "\n",
    "$R_2\\ =\\ \\chi_2\\ *\\ R_1\\ \\ \\ (7)$\n",
    "\n",
    "$Q\\ =\\ \\frac{R_2^{2}}{R_2\\ +\\ 60},\\ R\\ =\\ R_2\\ -\\ Q\\ \\ \\ (8)$\n"
   ]
  },
  {
   "cell_type": "code",
   "execution_count": 73,
   "metadata": {
    "collapsed": false
   },
   "outputs": [],
   "source": [
    "def Gr2m(E,P,x1,x2,So=325.35,Ro=30):\n",
    "    #EP=EP*Area*3.858e-4\n",
    "    #P =Area*P*3.858e-4\n",
    "    S = [So]\n",
    "    R = [Ro]\n",
    "    Q=[]\n",
    "    for i in range(len(P)):\n",
    "        vphi = np.tanh(P[i]/x1) \n",
    "        S1 = (S[-1] + x1*vphi)/(1 + vphi*(S[-1]/x1))     # (1)\n",
    "        P1 = P[i] + S[-1] - S1                      # (2)\n",
    "        psi = np.tanh(E[i]/x1)\n",
    "        S2 = S1(1 - psi)/(1 + psi(1-(S1/x1)))       # (3)\n",
    "        S.append(S2/(1 + (S2/x1)**3)**(1/3.))\n",
    "        P2 = S2 - S[-1]\n",
    "        P3 = P1 + P2\n",
    "        R1 = R[-1] + P3\n",
    "        R2 = x2*R1\n",
    "        Q.append(R2**2./(R2+60))\n",
    "        R.append(R2 - Q[-1])\n",
    "    return Q"
   ]
  },
  {
   "cell_type": "markdown",
   "metadata": {},
   "source": [
    "## Measurements"
   ]
  },
  {
   "cell_type": "code",
   "execution_count": 84,
   "metadata": {
    "collapsed": false
   },
   "outputs": [
    {
     "data": {
      "text/html": [
       "<div>\n",
       "<table border=\"1\" class=\"dataframe\">\n",
       "  <thead>\n",
       "    <tr style=\"text-align: right;\">\n",
       "      <th></th>\n",
       "      <th>Qo</th>\n",
       "      <th>P</th>\n",
       "      <th>E</th>\n",
       "    </tr>\n",
       "  </thead>\n",
       "  <tbody>\n",
       "    <tr>\n",
       "      <th>1990-01-01</th>\n",
       "      <td>9.07</td>\n",
       "      <td>52.79</td>\n",
       "      <td>10.44</td>\n",
       "    </tr>\n",
       "    <tr>\n",
       "      <th>1990-02-01</th>\n",
       "      <td>19.99</td>\n",
       "      <td>106.52</td>\n",
       "      <td>18.42</td>\n",
       "    </tr>\n",
       "    <tr>\n",
       "      <th>1990-03-01</th>\n",
       "      <td>16.29</td>\n",
       "      <td>16.67</td>\n",
       "      <td>44.05</td>\n",
       "    </tr>\n",
       "    <tr>\n",
       "      <th>1990-04-01</th>\n",
       "      <td>7.37</td>\n",
       "      <td>60.44</td>\n",
       "      <td>72.97</td>\n",
       "    </tr>\n",
       "    <tr>\n",
       "      <th>1990-05-01</th>\n",
       "      <td>6.64</td>\n",
       "      <td>34.25</td>\n",
       "      <td>100.41</td>\n",
       "    </tr>\n",
       "    <tr>\n",
       "      <th>1990-06-01</th>\n",
       "      <td>5.62</td>\n",
       "      <td>90.44</td>\n",
       "      <td>114.86</td>\n",
       "    </tr>\n",
       "    <tr>\n",
       "      <th>1990-07-01</th>\n",
       "      <td>6.95</td>\n",
       "      <td>38.61</td>\n",
       "      <td>125.19</td>\n",
       "    </tr>\n",
       "    <tr>\n",
       "      <th>1990-08-01</th>\n",
       "      <td>5.59</td>\n",
       "      <td>54.99</td>\n",
       "      <td>103.16</td>\n",
       "    </tr>\n",
       "    <tr>\n",
       "      <th>1990-09-01</th>\n",
       "      <td>6.18</td>\n",
       "      <td>50.85</td>\n",
       "      <td>67.37</td>\n",
       "    </tr>\n",
       "    <tr>\n",
       "      <th>1990-10-01</th>\n",
       "      <td>8.24</td>\n",
       "      <td>94.71</td>\n",
       "      <td>31.80</td>\n",
       "    </tr>\n",
       "  </tbody>\n",
       "</table>\n",
       "</div>"
      ],
      "text/plain": [
       "               Qo       P       E\n",
       "1990-01-01   9.07   52.79   10.44\n",
       "1990-02-01  19.99  106.52   18.42\n",
       "1990-03-01  16.29   16.67   44.05\n",
       "1990-04-01   7.37   60.44   72.97\n",
       "1990-05-01   6.64   34.25  100.41\n",
       "1990-06-01   5.62   90.44  114.86\n",
       "1990-07-01   6.95   38.61  125.19\n",
       "1990-08-01   5.59   54.99  103.16\n",
       "1990-09-01   6.18   50.85   67.37\n",
       "1990-10-01   8.24   94.71   31.80"
      ]
     },
     "execution_count": 84,
     "metadata": {},
     "output_type": "execute_result"
    }
   ],
   "source": [
    "df = pd.read_csv('Gr2m_example_data.csv',index_col=0)\n",
    "df.index = df.index.to_datetime()\n",
    "df.head(10)"
   ]
  },
  {
   "cell_type": "code",
   "execution_count": 85,
   "metadata": {
    "collapsed": false
   },
   "outputs": [],
   "source": [
    "def Gr2m(E,P,x1,x2,So=325.35,Ro=30):\n",
    "    S = [So]\n",
    "    R = [Ro]\n",
    "    Q=[]\n",
    "    for i in range(len(P)):\n",
    "        vphi = np.tanh(P[i]/x1)\n",
    "        S1 = (S[-1] + x1*vphi)/(1 + vphi*(S[-1]/x1))\n",
    "        P1 = P[i] + S[-1] - S1\n",
    "        psi = np.tanh(E[i]/x1)\n",
    "        S2 = S1*(1 - psi)/(1 + psi*(1-(S1/x1)))\n",
    "        S.append(S2/(1 + (S2/x1)**3)**(1/3.))\n",
    "        P2 = S2 - S[-1]\n",
    "        P3 = P1 + P2\n",
    "        R1 = R[-1] + P3\n",
    "        R2 = x2*R1\n",
    "        Q.append(R2**2./(R2+60))\n",
    "        R.append(R2 - Q[-1])\n",
    "    return Q"
   ]
  },
  {
   "cell_type": "code",
   "execution_count": 86,
   "metadata": {
    "collapsed": false
   },
   "outputs": [],
   "source": [
    "P = df['P'].values # monthly rainfall\n",
    "E = df['E'].values # monthly pan evaporation - Cenicafe Method\n",
    "Qo = df['Qo'].values # monthly measured runoff\n",
    "So = 325.35\n",
    "Ro=30\n",
    "x1 = 650.7\n",
    "x2 = .8\n",
    "Qs = Gr2m(E,P,x1,x2)"
   ]
  },
  {
   "cell_type": "markdown",
   "metadata": {},
   "source": [
    "## Plot measurements vs Simulations"
   ]
  },
  {
   "cell_type": "code",
   "execution_count": 88,
   "metadata": {
    "collapsed": false
   },
   "outputs": [
    {
     "data": {
      "image/png": "[encoded data removed]",
      "text/plain": [
       "<matplotlib.figure.Figure at 0xace6ad4c>"
      ]
     },
     "metadata": {},
     "output_type": "display_data"
    }
   ],
   "source": [
    "%matplotlib inline\n",
    "plt.plot(df.index,Qo,label='Observed Runoff')\n",
    "plt.plot(df.index,Qs,label='Simulated Runoff')\n",
    "plt.legend(loc='best')\n",
    "plt.show()"
   ]
  },
  {
   "cell_type": "markdown",
   "metadata": {},
   "source": [
    "## REFERENCES"
   ]
  },
  {
   "cell_type": "markdown",
   "metadata": {},
   "source": [
    "Mouelhi, S., Michel, C., Perrin, C., & Andréassian, V. (2006). Stepwise development of a two-parameter monthly water balance model. Journal of Hydrology, 318(1), 200-214."
   ]
  }
 ],
 "metadata": {
  "kernelspec": {
   "display_name": "Python 2",
   "language": "python",
   "name": "python2"
  },
  "language_info": {
   "codemirror_mode": {
    "name": "ipython",
    "version": 2
   },
   "file_extension": ".py",
   "mimetype": "text/x-python",
   "name": "python",
   "nbconvert_exporter": "python",
   "pygments_lexer": "ipython2",
   "version": "2.7.11"
  }
 },
 "nbformat": 4,
 "nbformat_minor": 0
}
